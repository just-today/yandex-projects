{
 "cells": [
  {
   "cell_type": "markdown",
   "metadata": {},
   "source": [
    "# Анализ результатов А/B теста для мобильного приложения.\n"
   ]
  },
  {
   "cell_type": "markdown",
   "metadata": {},
   "source": [
    "## Описание проекта"
   ]
  },
  {
   "cell_type": "markdown",
   "metadata": {},
   "source": [
    "У пользователей есть возможность покупать продукты питания через мобильное приложения.\n",
    "* Необходимо изучить воронку продаж, узнать, как пользователи доходят до покупки, сколько пользователей доходит до покупки, а сколько — «застревает» на определенных этапах.\n",
    "* Даны результаты A/A/B-теста, где пользователи разбыты на 3 группы: 2 контрольные со старыми шрифтами и одну экспериментальную — с новыми. Необходимо выяснить, какой шрифт лучше. "
   ]
  },
  {
   "cell_type": "markdown",
   "metadata": {},
   "source": [
    "## Оглавление"
   ]
  },
  {
   "cell_type": "markdown",
   "metadata": {},
   "source": [
    "* <b><a href=\"#data_discribe\">1. Описание данных</a></b>\n",
    "    * <a href=\"#resume1\">1.1 Вывод</a>\n",
    "* <b><a href=\"#data_preprocessing\">2. Предобработка данных</a></b>\n",
    "    * <a href='#result2'>2.4 Вывод</a>\n",
    "* <b><a href=\"#data_analiz\">3. Анализ данных</a></b>\n",
    "    * <a href=\"#data_analiz1\">3.1 События в логе </a>\n",
    "    * <a href=\"#data_analiz2\">3.2 Пользователи в логе</a>\n",
    "    * <a href='#data_analiz3'>3.3 Среднее количество событий на одного пользователя</a>\n",
    "    * <a href=\"#data_analize4\">3.4 Актуальный период данных</a>\n",
    "    * <a href=\"#data_analiz5\">3.5 Вывод</a>\n",
    "* <b><a href=\"#data_view\">4. Воронка событий </a></b>\n",
    "    * <a href='#data_view1'>4.1 Воронка с учётом последовательности событий</a>\n",
    "    * <a href='#data_view2'>4.2 Вывод</a>\n",
    "* <b><a href=\"#stat\">5. Анализ результатов эксперимента </a></b>\n",
    "    * <a href='#stat1'>5.1 Вывод</a>\n",
    "* <b><a href=\"#result\">6. Общий вывод </a></b>"
   ]
  },
  {
   "cell_type": "markdown",
   "metadata": {},
   "source": [
    "## Описание данных <a id=\"data_discribe\"></a>"
   ]
  },
  {
   "cell_type": "code",
   "execution_count": 1,
   "metadata": {},
   "outputs": [],
   "source": [
    "import pandas as pd\n",
    "import matplotlib.pyplot as plt \n",
    "import seaborn as sns\n",
    "from plotly import graph_objects as go\n",
    "from scipy import stats as st\n",
    "import math as mth\n",
    "import numpy as np"
   ]
  },
  {
   "cell_type": "code",
   "execution_count": 2,
   "metadata": {},
   "outputs": [
    {
     "name": "stdout",
     "output_type": "stream",
     "text": [
      "Таблица log с данными о действиях пользователя, или событиях\n"
     ]
    },
    {
     "data": {
      "text/html": [
       "<div>\n",
       "<style scoped>\n",
       "    .dataframe tbody tr th:only-of-type {\n",
       "        vertical-align: middle;\n",
       "    }\n",
       "\n",
       "    .dataframe tbody tr th {\n",
       "        vertical-align: top;\n",
       "    }\n",
       "\n",
       "    .dataframe thead th {\n",
       "        text-align: right;\n",
       "    }\n",
       "</style>\n",
       "<table border=\"1\" class=\"dataframe\">\n",
       "  <thead>\n",
       "    <tr style=\"text-align: right;\">\n",
       "      <th></th>\n",
       "      <th>EventName</th>\n",
       "      <th>DeviceIDHash</th>\n",
       "      <th>EventTimestamp</th>\n",
       "      <th>ExpId</th>\n",
       "    </tr>\n",
       "  </thead>\n",
       "  <tbody>\n",
       "    <tr>\n",
       "      <th>0</th>\n",
       "      <td>MainScreenAppear</td>\n",
       "      <td>4575588528974610257</td>\n",
       "      <td>1564029816</td>\n",
       "      <td>246</td>\n",
       "    </tr>\n",
       "    <tr>\n",
       "      <th>1</th>\n",
       "      <td>MainScreenAppear</td>\n",
       "      <td>7416695313311560658</td>\n",
       "      <td>1564053102</td>\n",
       "      <td>246</td>\n",
       "    </tr>\n",
       "    <tr>\n",
       "      <th>2</th>\n",
       "      <td>PaymentScreenSuccessful</td>\n",
       "      <td>3518123091307005509</td>\n",
       "      <td>1564054127</td>\n",
       "      <td>248</td>\n",
       "    </tr>\n",
       "    <tr>\n",
       "      <th>3</th>\n",
       "      <td>CartScreenAppear</td>\n",
       "      <td>3518123091307005509</td>\n",
       "      <td>1564054127</td>\n",
       "      <td>248</td>\n",
       "    </tr>\n",
       "    <tr>\n",
       "      <th>4</th>\n",
       "      <td>PaymentScreenSuccessful</td>\n",
       "      <td>6217807653094995999</td>\n",
       "      <td>1564055322</td>\n",
       "      <td>248</td>\n",
       "    </tr>\n",
       "  </tbody>\n",
       "</table>\n",
       "</div>"
      ],
      "text/plain": [
       "                 EventName         DeviceIDHash  EventTimestamp  ExpId\n",
       "0         MainScreenAppear  4575588528974610257      1564029816    246\n",
       "1         MainScreenAppear  7416695313311560658      1564053102    246\n",
       "2  PaymentScreenSuccessful  3518123091307005509      1564054127    248\n",
       "3         CartScreenAppear  3518123091307005509      1564054127    248\n",
       "4  PaymentScreenSuccessful  6217807653094995999      1564055322    248"
      ]
     },
     "metadata": {},
     "output_type": "display_data"
    },
    {
     "name": "stdout",
     "output_type": "stream",
     "text": [
      "\n",
      "Общая информация\n",
      "<class 'pandas.core.frame.DataFrame'>\n",
      "RangeIndex: 244126 entries, 0 to 244125\n",
      "Data columns (total 4 columns):\n",
      " #   Column          Non-Null Count   Dtype \n",
      "---  ------          --------------   ----- \n",
      " 0   EventName       244126 non-null  object\n",
      " 1   DeviceIDHash    244126 non-null  int64 \n",
      " 2   EventTimestamp  244126 non-null  int64 \n",
      " 3   ExpId           244126 non-null  int64 \n",
      "dtypes: int64(3), object(1)\n",
      "memory usage: 7.5+ MB\n",
      "\n",
      "Сумма пропущенных значений: 0\n",
      "Дубликатов строк: 413\n",
      " \n"
     ]
    }
   ],
   "source": [
    "try:\n",
    "    log = pd.read_csv('https://code.s3.yandex.net/datasets/logs_exp.csv', sep='\\t') \n",
    "except:\n",
    "    log = pd.read_csv('logs_exp.csv', sep='\\t')\n",
    "    \n",
    "def display_data(data,rows_num,description):\n",
    "    if description:\n",
    "        print(description)\n",
    "    rows_num = rows_num or 5\n",
    "    display(data.head(rows_num))\n",
    "    print('')\n",
    "    print('Общая информация')\n",
    "    data.info()\n",
    "    print('')\n",
    "    null_values = data.isnull().sum()\n",
    "    null_len =  len(null_values[null_values > 0])\n",
    "    if null_len == 0:\n",
    "        print('Сумма пропущенных значений: 0')\n",
    "    else:\n",
    "        print('Сумма пропущенных значений:')\n",
    "        display(null_values[null_values > 0])\n",
    "    print('Дубликатов строк: {:.0f}'.format(data.duplicated().sum()))\n",
    "    print(' ')\n",
    "\n",
    "display_data(log,5,'Таблица log с данными о действиях пользователя, или событиях')"
   ]
  },
  {
   "cell_type": "markdown",
   "metadata": {},
   "source": [
    "Столбцы таблицы\n",
    "* EventName — название события;\n",
    "* DeviceIDHash — уникальный идентификатор пользователя;\n",
    "* EventTimestamp — время события;\n",
    "* ExpId — номер эксперимента: 246 и 247 — контрольные группы, а 248 — экспериментальная."
   ]
  },
  {
   "cell_type": "markdown",
   "metadata": {},
   "source": [
    "### Вывод <a id=\"resume1\"></a>"
   ]
  },
  {
   "cell_type": "markdown",
   "metadata": {},
   "source": [
    "* В данных нет пропущенных значений, но присутствуют дубликаты строк. Удалим эти строки.\n",
    "* Переведем время события из timestamp в локальное время"
   ]
  },
  {
   "cell_type": "markdown",
   "metadata": {},
   "source": [
    "## Предобработка данных <a id=\"data_preprocessing\"></a>"
   ]
  },
  {
   "cell_type": "markdown",
   "metadata": {},
   "source": [
    "Удалим дубликаты"
   ]
  },
  {
   "cell_type": "code",
   "execution_count": null,
   "metadata": {},
   "outputs": [],
   "source": [
    "log = log.drop_duplicates()\n",
    "log.duplicated().sum()"
   ]
  },
  {
   "cell_type": "markdown",
   "metadata": {},
   "source": [
    "Переименуем столбцы"
   ]
  },
  {
   "cell_type": "code",
   "execution_count": null,
   "metadata": {},
   "outputs": [],
   "source": [
    "log.set_axis(['event_name','device_id_hash','event_datetime','exp_id'],axis='columns',inplace=True)\n",
    "display(log.columns)"
   ]
  },
  {
   "cell_type": "markdown",
   "metadata": {},
   "source": [
    "Переведем время события из timestamp в локальное время"
   ]
  },
  {
   "cell_type": "code",
   "execution_count": null,
   "metadata": {},
   "outputs": [],
   "source": [
    "log['event_datetime'] = pd.to_datetime(log['event_datetime'], unit='s')\n",
    "log.head(5)\n",
    "log.info()"
   ]
  },
  {
   "cell_type": "markdown",
   "metadata": {},
   "source": [
    "Добавим столбец с датой события отдельно"
   ]
  },
  {
   "cell_type": "code",
   "execution_count": null,
   "metadata": {},
   "outputs": [],
   "source": [
    "log['event_date'] = log['event_datetime'].dt.date\n",
    "log.head(5)"
   ]
  },
  {
   "cell_type": "markdown",
   "metadata": {},
   "source": [
    "### Вывод <a id='result2'></a>"
   ]
  },
  {
   "cell_type": "markdown",
   "metadata": {},
   "source": [
    "Дубликаты удалены, выделен столбец с датой события"
   ]
  },
  {
   "cell_type": "markdown",
   "metadata": {},
   "source": [
    "## Анализ данных <a id=\"data_analiz\"></a>"
   ]
  },
  {
   "cell_type": "markdown",
   "metadata": {},
   "source": [
    "### События в логе <a id=\"data_analiz1\"></a>"
   ]
  },
  {
   "cell_type": "code",
   "execution_count": null,
   "metadata": {},
   "outputs": [],
   "source": [
    "count_events = log.groupby('event_name', as_index=False).count()\n",
    "display(count_events)\n",
    "print('Всего событий:', count_events['device_id_hash'].sum())"
   ]
  },
  {
   "cell_type": "markdown",
   "metadata": {},
   "source": [
    "### Пользователи в логе <a id=\"data_analiz2\"></a>"
   ]
  },
  {
   "cell_type": "code",
   "execution_count": null,
   "metadata": {},
   "outputs": [],
   "source": [
    "print('Всего уникальных пользователей: ', len(log['device_id_hash'].unique()))"
   ]
  },
  {
   "cell_type": "markdown",
   "metadata": {},
   "source": [
    "### Среднее количество событий на одного пользователя <a id=\"data_analiz3\"></a>"
   ]
  },
  {
   "cell_type": "code",
   "execution_count": null,
   "metadata": {},
   "outputs": [],
   "source": [
    "n_events_mean = log.pivot_table(index='device_id_hash', values='event_name', aggfunc=['count'])\n",
    "n_events_mean_records = pd.DataFrame(n_events_mean.to_records())\n",
    "n_events_mean_records.set_axis(['device_id_hash','count_events'],axis='columns',inplace=True)\n",
    "events_per_user_mean = round(n_events_mean_records['count_events'].mean())\n",
    "\n",
    "\n",
    "#boxplot\n",
    "sns.boxplot(data=n_events_mean_records.loc[ n_events_mean_records['count_events'] < \\\n",
    "                n_events_mean_records['count_events'].quantile(0.97)]['count_events'],color=\"#66CCFF\")\n",
    "plt.show()\n",
    "\n",
    "#histogram\n",
    "n_events_mean.plot(title='Количество событий на одного пользователя в логе',\\\n",
    "             figsize=(12,3), kind='hist', grid='True', legend=None, bins=70)\n",
    "\n",
    "plt.axvline(x=events_per_user_mean, linewidth=3,color='y',linestyle='--')\n",
    "plt.xlabel('Значение')\n",
    "plt.ylabel('Частота')\n",
    "plt.show()\n",
    "\n",
    "display(n_events_mean_records.describe())\n",
    "print('Среднее количество событий на одного пользователя:', events_per_user_mean)"
   ]
  },
  {
   "cell_type": "code",
   "execution_count": null,
   "metadata": {},
   "outputs": [],
   "source": [
    "n_events_mean.plot(title='Количество событий на одного пользователя в логе',\\\n",
    "                   figsize=(12,3), kind='hist', grid='True', legend=None, bins=70, range=(0,500), \n",
    "                   ec='black')"
   ]
  },
  {
   "cell_type": "markdown",
   "metadata": {},
   "source": [
    "### Актуальный период данных <a id=\"data_analiz4\"></a>"
   ]
  },
  {
   "cell_type": "code",
   "execution_count": null,
   "metadata": {},
   "outputs": [],
   "source": [
    "date_min = log['event_date'].min()\n",
    "date_max = log['event_date'].max()\n",
    "print('Период событий в логе: с',date_min.strftime('%d-%m-%Y'),'по',date_max.strftime('%d-%m-%Y'))"
   ]
  },
  {
   "cell_type": "code",
   "execution_count": null,
   "metadata": {
    "scrolled": false
   },
   "outputs": [],
   "source": [
    "display(log.pivot_table(index='event_date', columns='event_name', values='event_datetime', \\\n",
    "                        aggfunc=['count']))"
   ]
  },
  {
   "cell_type": "markdown",
   "metadata": {},
   "source": [
    "Для дальнейшего анализа рассмотрим данные только за август, так как, судя по графику и таблице, данные в логе за последние дни июля не полные "
   ]
  },
  {
   "cell_type": "code",
   "execution_count": null,
   "metadata": {},
   "outputs": [],
   "source": [
    "data_old = log.loc[log['event_date'] < pd.to_datetime('2019-08-01')]\n",
    "data = log.loc[log['event_date'] >= pd.to_datetime('2019-08-01')]\n",
    "\n",
    "print('Всего потеряем пользователей: ', \\\n",
    "   len(data_old['device_id_hash'].unique()) - \\\n",
    "      len(data_old.merge(data, on='device_id_hash', how='inner')['device_id_hash'].unique()))"
   ]
  },
  {
   "cell_type": "code",
   "execution_count": null,
   "metadata": {},
   "outputs": [],
   "source": [
    "print('Всего потеряем событий: ', data_old['event_name'].count(), \\\n",
    "      '- {:.2%} от данных'.format(data_old['event_name'].count()/log['event_name'].count()))"
   ]
  },
  {
   "cell_type": "code",
   "execution_count": null,
   "metadata": {},
   "outputs": [],
   "source": [
    "display(data.groupby('exp_id', as_index=False).count())"
   ]
  },
  {
   "cell_type": "markdown",
   "metadata": {},
   "source": [
    "В данных остались пользователи из всех трёх экспериментальных групп"
   ]
  },
  {
   "cell_type": "markdown",
   "metadata": {},
   "source": [
    "### Вывод <a id=\"data_analiz5\"></a>"
   ]
  },
  {
   "cell_type": "markdown",
   "metadata": {},
   "source": [
    "В логе информация о 7551 пользователеб на каждого из них приходится в среднем по 32 записи о событиях. Актуальные данные в логе за август "
   ]
  },
  {
   "cell_type": "markdown",
   "metadata": {},
   "source": [
    "## Воронка событий  <a id=\"data_view\"></a>"
   ]
  },
  {
   "cell_type": "code",
   "execution_count": null,
   "metadata": {},
   "outputs": [],
   "source": [
    "data.groupby('event_name', as_index=False).agg({'event_datetime': 'count'}).\\\n",
    "    sort_values(by='event_datetime', ascending=False)"
   ]
  },
  {
   "cell_type": "markdown",
   "metadata": {},
   "source": [
    "События в логе: \"Открытие главного экрана\", \"Католог\", \"Корзина\", \"Страница успешной оплаты\", \"Руководство пользователя\". Самое \"популярное\" событие - открытие главного экрана (117328 записей)."
   ]
  },
  {
   "cell_type": "code",
   "execution_count": null,
   "metadata": {},
   "outputs": [],
   "source": [
    "users_count = data.groupby('event_name', as_index=False).agg({'device_id_hash': 'nunique'}).\\\n",
    "        sort_values(by='device_id_hash', ascending=False)\n",
    "\n",
    "print('Всего уникальных пользователей: ', len(data['device_id_hash'].unique()))\n",
    "\n",
    "users_count['share'] = round(users_count['device_id_hash']/len(data['device_id_hash'].unique()),2)                                               \n",
    "print('Количество пользователей совершивших каждое событие и доля пользователей,\\\n",
    " совершивших событие хотя бы раз')\n",
    "display(users_count)"
   ]
  },
  {
   "cell_type": "markdown",
   "metadata": {},
   "source": [
    "Цепочка событий воронки: \n",
    "* \"Главный экран\" \n",
    "* \"Страница товара\" \n",
    "* \"Корзина\" \n",
    "* \"Успешная оплата\""
   ]
  },
  {
   "cell_type": "markdown",
   "metadata": {},
   "source": [
    "Выведем воронку, которая нам показывает, сколько у нас юзеров на каком из этапов. Конечно, это \"воронка\" с натяжкой, потому что это не те пользователи, которые прошли весь путь от и до.<br/>\n",
    "Будет возможность сравнить 2 воронки."
   ]
  },
  {
   "cell_type": "code",
   "execution_count": null,
   "metadata": {},
   "outputs": [],
   "source": [
    "fig_1 = go.Figure(\n",
    "    go.Funnel(\n",
    "        y=[\n",
    "            'Открыли главную страницу',\n",
    "            'Открыли каталог',\n",
    "            'Положили товары в корзину',\n",
    "            'Оплатили',\n",
    "        ],\n",
    "        x=users_count['device_id_hash'],\n",
    "        textinfo = \"value+percent initial\",\n",
    "        marker = {\"color\": \"#66CCFF\"}\n",
    "    )\n",
    ")\n",
    "\n",
    "fig_1.update_layout(margin=dict(l=0, r=0, t=30, b=0),\n",
    "                  height=300,\n",
    "                  width=800,\n",
    "                  title_text='Воронка событий по уникальным пользователям на каждом этапе', title_x=0.6\n",
    "                 )\n",
    "\n",
    "fig_1.show()"
   ]
  },
  {
   "cell_type": "code",
   "execution_count": null,
   "metadata": {},
   "outputs": [],
   "source": [
    "users_tutorial = data.pivot_table(\n",
    "        index='device_id_hash', columns='event_name', values='event_datetime', aggfunc='min'\n",
    "    ) \n",
    "display(pd.DataFrame(users_tutorial.to_records()).sort_values(by='Tutorial').head(5))"
   ]
  },
  {
   "cell_type": "code",
   "execution_count": null,
   "metadata": {},
   "outputs": [],
   "source": [
    "def funnel_by_data(data):\n",
    "    users = data.pivot_table(\n",
    "        index='device_id_hash', columns='event_name', values='event_datetime', aggfunc='min'\n",
    "    ) \n",
    "    display(users.head(5))\n",
    "    step_1 = ~users['MainScreenAppear'].isna()\n",
    "    step_2 = step_1 & (users['OffersScreenAppear'] > users['MainScreenAppear'])\n",
    "    step_3 = step_2 & (users['CartScreenAppear'] > users['OffersScreenAppear'])\n",
    "    step_4 = step_3 & (users['PaymentScreenSuccessful'] > users['CartScreenAppear'])\n",
    "\n",
    "    n_main_screen = users[step_1].shape[0]\n",
    "    n_offers_screen = users[step_2].shape[0]\n",
    "    n_cart_screen = users[step_3].shape[0]\n",
    "    n_payment_screen = users[step_4].shape[0]\n",
    "\n",
    "    print(\"Главный экран\", n_main_screen)\n",
    "    print('Каталог', n_offers_screen)\n",
    "    print('Корзина', n_cart_screen)\n",
    "    print('Оплата', n_payment_screen)\n",
    "\n",
    "    res = pd.DataFrame([\"Главный экран\",'Каталог','Корзина','Оплата'], columns = {'events'})\n",
    "\n",
    "    res['n_users'] = [n_main_screen,n_offers_screen,n_cart_screen,n_payment_screen]\n",
    "    res['res']      = round(res['n_users']/res['n_users'][0],2)\n",
    "    res['step_res'] = [1, res['n_users'][1]/res['n_users'][0], \\\n",
    "                        res['n_users'][2]/res['n_users'][1],res['n_users'][3]/res['n_users'][2]]\n",
    "    res['step_res'] = round(res['step_res'],2)\n",
    "    display(res)\n",
    "\n",
    "\n",
    "    fig = go.Figure(\n",
    "        go.Funnel(\n",
    "            y=[\n",
    "                'Открыли главную страницу',\n",
    "                'Открыли каталог',\n",
    "                'Положили товары в корзину',\n",
    "                'Оплатили',\n",
    "            ],\n",
    "            x=res['n_users'],\n",
    "            textinfo = \"value+percent initial\",\n",
    "            marker = {\"color\": \"#66CCFF\"}\n",
    "        )\n",
    "    )\n",
    "\n",
    "    fig.update_layout(margin=dict(l=0, r=0, t=10, b=0),\n",
    "                      height=300,\n",
    "                      width=800)\n",
    "\n",
    "    fig.show()\n",
    "    \n",
    "    return res"
   ]
  },
  {
   "cell_type": "code",
   "execution_count": null,
   "metadata": {},
   "outputs": [],
   "source": [
    "df_for_2nd_funnel = funnel_by_data(data)"
   ]
  },
  {
   "cell_type": "code",
   "execution_count": null,
   "metadata": {},
   "outputs": [],
   "source": [
    "\n",
    "fig = go.Figure()\n",
    "\n",
    "fig.add_trace(go.Funnel(\n",
    "    name = 'Воронка без учета<br> последовательности',\n",
    "    y=[\n",
    "            'Открыли главную страницу',\n",
    "            'Открыли каталог',\n",
    "            'Положили товары в корзину',\n",
    "            'Оплатили',\n",
    "        ],\n",
    "    x=users_count['device_id_hash'],\n",
    "    textinfo = \"value+percent initial\"))\n",
    "\n",
    "fig.add_trace(go.Funnel(\n",
    "    name = 'Воронка с учетом<br> последовательности',\n",
    "    orientation = \"h\",\n",
    "    y=[\n",
    "            'Открыли главную страницу',\n",
    "            'Открыли каталог',\n",
    "            'Положили товары в корзину',\n",
    "            'Оплатили',\n",
    "        ],\n",
    "    x=df_for_2nd_funnel['n_users'],\n",
    "    textposition = \"auto\",\n",
    "    textinfo = \"value+percent initial\"))\n",
    "\n",
    "\n",
    "fig.show()"
   ]
  },
  {
   "cell_type": "markdown",
   "metadata": {},
   "source": [
    "Начинается всё с одинакового количества пользователей, что ожидаемо. На следующем этапе 5% (392) пользователей - это те, кто пришёл сразу же к каталогу, то есть они не были на главном экране. На этапе корзины - таких уже 2000 пользователей (кто-то из них не был на главном экране, кто-то - на экране каталога). Видим, какая часть пользователей от общего числа попала на каждый конкретный этап с учетом последовательности выполняемых событий, а какая - нет."
   ]
  },
  {
   "cell_type": "markdown",
   "metadata": {},
   "source": [
    "### Воронка с учётом последовательности событий <a id=\"data_view1\"></a>"
   ]
  },
  {
   "cell_type": "code",
   "execution_count": null,
   "metadata": {},
   "outputs": [],
   "source": [
    "data = data[data['event_name'] != 'Tutorial']\n",
    "funnel_by_data( data )"
   ]
  },
  {
   "cell_type": "markdown",
   "metadata": {},
   "source": [
    "Из столбца итоговой конверсии (res) видно, что из 100 пользователей  с главной страницы дошли до оплаты и оплатили заказ всего 6 человек. Наибольшие \"потери\" при оплате заказа, только 26%  пользователей оплатили заказ уже добавленный в корзину"
   ]
  },
  {
   "cell_type": "markdown",
   "metadata": {},
   "source": [
    "### Вывод <a id=\"data_view2\"></a>"
   ]
  },
  {
   "cell_type": "markdown",
   "metadata": {},
   "source": [
    "* Пользователи добавляют продукты в корзину, но только 26% из них оплачивает заказ. 11% пользователей открывали Tutorial. Возможно, на этапе оплаты заказа возникают определенные трудности и стоит внести изменения на страницу оплаты.\n",
    "* 2% пользователей не открывали главный экран, те подходили альтернативным путём."
   ]
  },
  {
   "cell_type": "markdown",
   "metadata": {},
   "source": [
    "## Анализ результатов эксперимента <a id=\"stat\"></a>"
   ]
  },
  {
   "cell_type": "code",
   "execution_count": null,
   "metadata": {},
   "outputs": [],
   "source": [
    "count_users_by_groups = data.groupby('exp_id', as_index=False).agg({'device_id_hash': 'nunique'})\n",
    "display(count_users_by_groups)"
   ]
  },
  {
   "cell_type": "markdown",
   "metadata": {},
   "source": [
    "В экспериментальных группах 246-2483, 247-2512, 248-2535 пользователей. "
   ]
  },
  {
   "cell_type": "code",
   "execution_count": null,
   "metadata": {},
   "outputs": [],
   "source": [
    "test_data = pd.DataFrame(data.\\\n",
    "                pivot_table(index='event_name', columns='exp_id', values='device_id_hash', aggfunc='nunique').\\\n",
    "                         to_records()).sort_values(by='246', ascending = False)\n",
    "\n",
    "test_data['246_conv'] = round(test_data['246']/test_data['246'][1],2)\n",
    "test_data['247_conv'] = round(test_data['247']/test_data['247'][1],2)\n",
    "test_data['248_conv'] = round(test_data['248']/test_data['248'][1],2)\n",
    "display(test_data)"
   ]
  },
  {
   "cell_type": "code",
   "execution_count": null,
   "metadata": {},
   "outputs": [],
   "source": [
    "events = {'MainScreenAppear':'Открыли главную страницу',\n",
    "          'OffersScreenAppear':'Открыли каталог',\n",
    "          'CartScreenAppear':'Положили товары в корзину',\n",
    "          'PaymentScreenSuccessful':'Оплатили'\n",
    "         }"
   ]
  },
  {
   "cell_type": "markdown",
   "metadata": {},
   "source": [
    "* Н0 - Между конверсиями нет существенной разницы\n",
    "* H1 - Между долями есть существенная разница"
   ]
  },
  {
   "cell_type": "code",
   "execution_count": null,
   "metadata": {},
   "outputs": [],
   "source": [
    "def test(success1, success2, trial1, trial2, alpha, n_exp):\n",
    "    successes = np.array([success1, success2])\n",
    "    trials = np.array([trial1, trial2])\n",
    "\n",
    "    # пропорция успехов в первой группе:\n",
    "    p1 = successes[0]/trials[0]\n",
    "\n",
    "    # пропорция успехов во второй группе:\n",
    "    p2 = successes[1]/trials[1]\n",
    "\n",
    "    # пропорция успехов в комбинированном датасете:\n",
    "    p_combined = (successes[0] + successes[1]) / (trials[0] + trials[1])\n",
    "\n",
    "    # разница пропорций в датасетах\n",
    "    difference = p1 - p2 \n",
    "\n",
    "    # считаем статистику в ст.отклонениях стандартного нормального распределения\n",
    "    z_value = difference / mth.sqrt(p_combined * (1 - p_combined) * (1/trials[0] + 1/trials[1]))\n",
    "\n",
    "    # задаем стандартное нормальное распределение (среднее 0, ст.отклонение 1)\n",
    "    distr = st.norm(0, 1)\n",
    "    \n",
    "    p_value = (1 - distr.cdf(abs(z_value))) * 2\n",
    "    print('p-значение: ', p_value)\n",
    "    \n",
    "    bonferroni_alpha = alpha / n_exp\n",
    "\n",
    "    if p_value < alpha:\n",
    "        print('Отвергаем нулевую гипотезу: между долями есть значимая разница')\n",
    "    else:\n",
    "        print(\n",
    "            'Не получилось отвергнуть нулевую гипотезу, нет оснований считать доли разными'\n",
    "        ) \n",
    "    print('')\n",
    "\n",
    "n_exp  = 16 #4 события в воронке и 4 группы 246, 247, 248 и 246+247\n",
    "alpha1 = .05 # критический уровень статистической значимости\n",
    "users_by_group_dict = count_users_by_groups.set_index('exp_id')['device_id_hash'].to_dict()\n",
    "print(str.upper('Различие между контрольными группами'))\n",
    "for i in range(0,4):\n",
    "    print(events[test_data['event_name'][i]])\n",
    "    test(test_data['246'][i], test_data['247'][i], users_by_group_dict[246],\\\n",
    "         users_by_group_dict[247], alpha1, n_exp)  "
   ]
  },
  {
   "cell_type": "code",
   "execution_count": null,
   "metadata": {},
   "outputs": [],
   "source": [
    "print(str.upper('Различие между первой контрольной группой и группой с измененным шрифтом для списка событий'))\n",
    "for i in range(0,4):\n",
    "    print(events[test_data['event_name'][i]])\n",
    "    test(test_data['246'][i], test_data['248'][i], users_by_group_dict[246],\\\n",
    "         users_by_group_dict[248], alpha1, n_exp)\n",
    "    \n",
    "print(str.upper('Различие между второй контрольной группой и группой с измененным шрифтом для списка событий'))        \n",
    "for i in range(0,4):\n",
    "    print(events[test_data['event_name'][i]])\n",
    "    test(test_data['248'][i], test_data['247'][i], users_by_group_dict[248],\\\n",
    "         users_by_group_dict[247], alpha1, n_exp)"
   ]
  },
  {
   "cell_type": "markdown",
   "metadata": {},
   "source": [
    "Так как каждый пользователь входит только в одну контрольную группу, то можем сложить значения для объединенной группы, чтобы сравнивать ее с измененной группой"
   ]
  },
  {
   "cell_type": "code",
   "execution_count": null,
   "metadata": {},
   "outputs": [],
   "source": [
    "print(str.upper('Различие между объединенной контрольной группой и группой с измененным шрифтом для списка событий'))\n",
    "for i in range(0,4):\n",
    "    print(events[test_data['event_name'][i]])\n",
    "    test(test_data['248'][i], test_data['246'][i] + test_data['247'][i], \n",
    "         users_by_group_dict[248], users_by_group_dict[246] + users_by_group_dict[247], alpha1, n_exp)"
   ]
  },
  {
   "cell_type": "markdown",
   "metadata": {},
   "source": [
    "заменим уровень статистической значимости на 0.1"
   ]
  },
  {
   "cell_type": "code",
   "execution_count": null,
   "metadata": {},
   "outputs": [],
   "source": [
    "alpha_new =  0.1\n",
    "print(str.upper('Различие между контрольными группами'))\n",
    "for i in range(0,4):\n",
    "    print(events[test_data['event_name'][i]])\n",
    "    test(test_data['246'][i], test_data['248'][i], users_by_group_dict[246], \\\n",
    "         users_by_group_dict[248], alpha_new, n_exp)\n",
    "    \n",
    "print(str.upper('Различие между первой контрольной группой и группой с измененным шрифтом для списка событий'))\n",
    "for i in range(0,4):\n",
    "    print(events[test_data['event_name'][i]])\n",
    "    test(test_data['246'][i], test_data['248'][i], users_by_group_dict[246], \\\n",
    "         users_by_group_dict[248], alpha_new, n_exp)\n",
    "    \n",
    "print(str.upper('Различие между второй контрольной группой и группой с измененным шрифтом для списка событий'))    \n",
    "for i in range(0,4):\n",
    "    print(events[test_data['event_name'][i]])\n",
    "    test(test_data['248'][i], test_data['247'][i], users_by_group_dict[248],\\\n",
    "         users_by_group_dict[247], alpha_new, n_exp)\n",
    "    \n",
    "print(str.upper('Различие между объединенной контрольной группой и группой с измененным шрифтом для списка событий'))\n",
    "for i in range(0,4):\n",
    "    print(events[test_data['event_name'][i]])\n",
    "    test(test_data['248'][i], test_data['246'][i] + test_data['247'][i], \n",
    "         users_by_group_dict[248], users_by_group_dict[246] + users_by_group_dict[247],\\\n",
    "         alpha_new,n_exp)"
   ]
  },
  {
   "cell_type": "markdown",
   "metadata": {},
   "source": [
    "### Вывод <a id=\"stat1\"></a>"
   ]
  },
  {
   "cell_type": "markdown",
   "metadata": {},
   "source": [
    "Разница в 2-3% между конверсиями оказалась статистически не значимой для критического уровня статистической значимости 0.05. \n",
    "Однако, для события \"Положили товары в корзину\" при alpha = 0,1 с р-значением 8% есть различия. Тогда получаем, что опасения менеджеров были не напрасны, и шрифт менять не стоит\n",
    "\n",
    "Увеличивая уровень значимости, мы увеличиваем шансы отвергнуть нулевую гипотезу, а с другой стороны мы также увеличиваем и вероятность ошибки первого рода. Поскольку наша выборка не такая уж маленькая, пользователей в каждой группе больше 1000, то корректно взять alpha = 0.05 или меньше"
   ]
  },
  {
   "cell_type": "markdown",
   "metadata": {},
   "source": [
    "## Общий вывод <a id=\"result\"></a>"
   ]
  },
  {
   "cell_type": "markdown",
   "metadata": {},
   "source": [
    "* В логе информация о 7551 пользователе, на каждого из них приходится в среднем по 32 записи о событиях. Актуальные данные в логе с 01.08.2019 по 07.08.2019\n",
    "* Конверсия из пользователей, которые открыли главный экран в покупателей оплативших заказ всего 6%. Только 26% из тех, кто положил продукты в корзину, оплачивает заказ. Необходимо пересмотреть экран оплаты товаров. Возможно, пользователь испытывает трудности при вводе или выборе данных карты\n",
    "* Шрифт в приложении менять не стоит, так как нет статистической значимости для разницы конверсий контрольной группы и группы, которой показывали измененный шрифт."
   ]
  }
 ],
 "metadata": {
  "kernelspec": {
   "display_name": "Python 3",
   "language": "python",
   "name": "python3"
  },
  "language_info": {
   "codemirror_mode": {
    "name": "ipython",
    "version": 3
   },
   "file_extension": ".py",
   "mimetype": "text/x-python",
   "name": "python",
   "nbconvert_exporter": "python",
   "pygments_lexer": "ipython3",
   "version": "3.8.5"
  },
  "toc": {
   "base_numbering": 1,
   "nav_menu": {
    "height": "251px",
    "width": "319px"
   },
   "number_sections": true,
   "sideBar": true,
   "skip_h1_title": true,
   "title_cell": "Table of Contents",
   "title_sidebar": "Contents",
   "toc_cell": false,
   "toc_position": {},
   "toc_section_display": true,
   "toc_window_display": true
  }
 },
 "nbformat": 4,
 "nbformat_minor": 2
}
